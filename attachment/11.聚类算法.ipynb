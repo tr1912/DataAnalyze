{
 "cells": [
  {
   "cell_type": "markdown",
   "metadata": {},
   "source": [
    "### API：sklearn.cluster.KMeans\n",
    "- class sklearn.cluster.KMeans (n_clusters=8, init=’k-means++’, n_init=10, max_iter=300, tol=0.0001, precompute_distances=’auto’, verbose=0, random_state=None, copy_x=True, n_jobs=None, algorithm=’auto’)"
   ]
  },
  {
   "cell_type": "code",
   "execution_count": 3,
   "metadata": {},
   "outputs": [],
   "source": [
    "from sklearn.cluster import KMeans"
   ]
  },
  {
   "cell_type": "markdown",
   "metadata": {},
   "source": [
    "- 重要参数：\n",
    "    - n_clusters\n",
    "        - n_clusters是KMeans中的k，表示着我们告诉模型我们要分几类。这是KMeans当中唯一一个必填的参数，默认为8 类，但通常我们的聚类结果会是一个小于8的结果。通常，在开始聚类之前，我们并不知道n_clusters究竟是多少， 因此我们要对它进行探索。\n",
    "    - random_state\n",
    "        - 用于初始化质心的生成器。\n",
    "    - max_iter:模型最大迭代次数"
   ]
  },
  {
   "cell_type": "markdown",
   "metadata": {},
   "source": [
    "- KMeans的首次探索\n",
    "    - 当我们拿到一个数据集，如果可能的话，我们希望能够通过绘图先观察一下这个数据集的数据分布，以此来为我们聚类时输入的n_clusters做一个参考。 首先，我们来自己创建一个数据集使用make_blobs。这样的数据集是我们自己创建，所以是有标签的。"
   ]
  },
  {
   "cell_type": "code",
   "execution_count": 4,
   "metadata": {},
   "outputs": [],
   "source": [
    "#伪造测试样本\n",
    "from sklearn.datasets import make_blobs\n",
    "#参数解释：\n",
    "#n_samples:样本总量\n",
    "#n_features：特征维度\n",
    "#centers:样本类别\n",
    "X,y = make_blobs(n_samples=500,n_features=2,centers=4,random_state=2020)\n",
    "#X试题，y答案"
   ]
  },
  {
   "cell_type": "code",
   "execution_count": 7,
   "metadata": {},
   "outputs": [
    {
     "data": {
      "image/png": "[encoded data removed]",
      "text/plain": [
       "<Figure size 432x288 with 1 Axes>"
      ]
     },
     "metadata": {
      "needs_background": "light"
     },
     "output_type": "display_data"
    }
   ],
   "source": [
    "#观察500个样本根据不同的类别对应分布形式\n",
    "import matplotlib.pyplot as plt\n",
    "#将不同类别的特征使用不同的颜色表示\n",
    "color = ['red','pink','orange','gray']\n",
    "for i in range(4):\n",
    "    plt.scatter(X[y==i,0],X[y==i,1],c=color[i])"
   ]
  },
  {
   "cell_type": "code",
   "execution_count": 8,
   "metadata": {},
   "outputs": [
    {
     "data": {
      "text/plain": [
       "KMeans(n_clusters=4)"
      ]
     },
     "execution_count": 8,
     "metadata": {},
     "output_type": "execute_result"
    }
   ],
   "source": [
    "#基于测试样本将其聚成4个簇\n",
    "model = KMeans(n_clusters=4)\n",
    "model.fit(X)"
   ]
  },
  {
   "cell_type": "code",
   "execution_count": 9,
   "metadata": {
    "collapsed": true
   },
   "outputs": [
    {
     "data": {
      "text/plain": [
       "array([0, 3, 3, 0, 2, 2, 2, 1, 3, 1, 1, 1, 2, 3, 0, 0, 1, 2, 1, 2, 3, 2,\n",
       "       1, 1, 0, 0, 3, 2, 1, 1, 2, 1, 0, 2, 0, 2, 3, 1, 3, 2, 2, 2, 0, 0,\n",
       "       1, 3, 0, 1, 2, 2, 3, 2, 2, 1, 2, 2, 0, 0, 2, 3, 0, 1, 0, 1, 0, 0,\n",
       "       0, 0, 0, 3, 2, 1, 2, 3, 1, 3, 1, 2, 2, 1, 0, 1, 3, 3, 3, 1, 0, 1,\n",
       "       1, 2, 1, 3, 3, 3, 0, 2, 1, 3, 2, 2, 0, 3, 3, 3, 3, 0, 0, 2, 0, 3,\n",
       "       1, 3, 0, 3, 1, 3, 1, 2, 3, 0, 0, 0, 0, 0, 0, 0, 3, 0, 2, 0, 3, 1,\n",
       "       0, 2, 3, 0, 3, 2, 1, 2, 3, 1, 0, 3, 0, 0, 3, 0, 1, 1, 3, 2, 3, 0,\n",
       "       1, 0, 2, 2, 2, 1, 0, 1, 1, 1, 2, 3, 0, 2, 0, 0, 1, 2, 1, 1, 0, 2,\n",
       "       3, 3, 3, 0, 2, 2, 2, 1, 0, 1, 0, 3, 0, 1, 0, 3, 1, 1, 2, 0, 2, 3,\n",
       "       2, 2, 3, 0, 3, 2, 3, 2, 1, 3, 0, 3, 2, 2, 3, 0, 0, 0, 2, 3, 1, 3,\n",
       "       0, 2, 1, 3, 2, 2, 1, 3, 3, 2, 2, 1, 1, 2, 3, 1, 1, 1, 3, 2, 1, 2,\n",
       "       2, 1, 0, 2, 2, 1, 1, 1, 2, 3, 2, 3, 2, 0, 3, 2, 0, 3, 1, 3, 2, 3,\n",
       "       3, 3, 0, 2, 2, 2, 3, 1, 2, 1, 0, 0, 2, 3, 3, 2, 1, 1, 1, 3, 1, 0,\n",
       "       1, 3, 3, 0, 0, 0, 2, 3, 2, 0, 0, 3, 1, 2, 0, 3, 3, 3, 3, 3, 2, 3,\n",
       "       2, 2, 2, 0, 1, 3, 0, 0, 3, 2, 1, 1, 1, 0, 3, 0, 0, 0, 1, 2, 0, 0,\n",
       "       3, 1, 2, 2, 1, 0, 1, 0, 1, 1, 1, 0, 2, 0, 1, 0, 0, 1, 1, 3, 2, 1,\n",
       "       2, 1, 3, 3, 0, 0, 3, 3, 2, 1, 0, 1, 3, 0, 3, 3, 3, 3, 3, 0, 3, 2,\n",
       "       2, 0, 0, 1, 3, 0, 3, 3, 0, 2, 2, 2, 1, 2, 1, 1, 1, 1, 1, 3, 1, 3,\n",
       "       1, 3, 2, 2, 0, 3, 0, 0, 1, 1, 1, 2, 3, 3, 0, 1, 1, 3, 0, 0, 1, 1,\n",
       "       1, 1, 0, 2, 0, 2, 3, 2, 3, 1, 2, 3, 2, 0, 1, 0, 2, 0, 1, 2, 0, 1,\n",
       "       0, 2, 0, 3, 2, 3, 1, 0, 3, 0, 2, 0, 2, 3, 1, 0, 1, 2, 1, 3, 3, 2,\n",
       "       1, 2, 0, 0, 0, 1, 2, 3, 3, 3, 1, 1, 0, 2, 1, 0, 3, 3, 0, 1, 2, 3,\n",
       "       3, 0, 0, 2, 2, 2, 1, 1, 3, 3, 3, 0, 1, 3, 2, 1], dtype=int32)"
      ]
     },
     "execution_count": 9,
     "metadata": {},
     "output_type": "execute_result"
    }
   ],
   "source": [
    "model.labels_ #对500个样本的聚类结果"
   ]
  },
  {
   "cell_type": "markdown",
   "metadata": {},
   "source": [
    "- 基于这个分布，我们来使用Kmeans进行聚类。首先，我们要假设一下，这个数据中有几簇?\n",
    "    - labels_:表示样本聚类的结果\n",
    "    - cluster_centers_:返回质心坐标\n",
    "    - inertia_:整体平方和"
   ]
  },
  {
   "cell_type": "code",
   "execution_count": 10,
   "metadata": {},
   "outputs": [
    {
     "data": {
      "text/plain": [
       "array([[ 0.22319694, -4.64295938],\n",
       "       [ 9.62948899,  7.48461019],\n",
       "       [-4.48822192, -3.14936766],\n",
       "       [-3.29516575, -5.71448685]])"
      ]
     },
     "execution_count": 10,
     "metadata": {},
     "output_type": "execute_result"
    }
   ],
   "source": [
    "model.cluster_centers_"
   ]
  },
  {
   "cell_type": "code",
   "execution_count": 11,
   "metadata": {},
   "outputs": [
    {
     "data": {
      "text/plain": [
       "897.4174219305443"
      ]
     },
     "execution_count": 11,
     "metadata": {},
     "output_type": "execute_result"
    }
   ],
   "source": [
    "model.inertia_"
   ]
  },
  {
   "cell_type": "code",
   "execution_count": 12,
   "metadata": {},
   "outputs": [
    {
     "data": {
      "image/png": "[encoded data removed]",
      "text/plain": [
       "<Figure size 432x288 with 1 Axes>"
      ]
     },
     "metadata": {
      "needs_background": "light"
     },
     "output_type": "display_data"
    }
   ],
   "source": [
    "#观察下不同簇下对应的样本分布形态\n",
    "labels = model.labels_\n",
    "color = ['red','pink','orange','gray']\n",
    "for i in range(4):\n",
    "    plt.scatter(X[labels==i,0],X[labels==i,1],c=color[i])"
   ]
  },
  {
   "cell_type": "markdown",
   "metadata": {},
   "source": [
    "- Kmeans对结果的预测：\n",
    "    - KMeans算法通常情况是不需要预测结果的，因为该算法本质上是在对未知分类数据的探索。但是在某些情况下我们也可以使用predict进行预测操作。\n",
    "    - 我们什么时候需要predict呢？\n",
    "        - 当数据量太大的时候！\n",
    "            - 其实我们不必使用所有的数据来寻找质心，少量的数据就可以帮助我们确定质心了。\n",
    "            - 当我们数据量非常大的时候，我们可以使用部分数据来帮助我们确认质心\n",
    "            - 剩下的数据的聚类结果，使用predict来调用"
   ]
  },
  {
   "cell_type": "code",
   "execution_count": 13,
   "metadata": {},
   "outputs": [
    {
     "data": {
      "text/plain": [
       "KMeans(n_clusters=4)"
      ]
     },
     "execution_count": 13,
     "metadata": {},
     "output_type": "execute_result"
    }
   ],
   "source": [
    "#获取了原先样本的一半样本量\n",
    "X_n = X[0:250]\n",
    "y_n = y[0:250]\n",
    "\n",
    "model = KMeans(n_clusters=4)\n",
    "model.fit(X_n)"
   ]
  },
  {
   "cell_type": "code",
   "execution_count": 14,
   "metadata": {
    "collapsed": true
   },
   "outputs": [
    {
     "data": {
      "text/plain": [
       "array([2, 3, 2, 3, 2, 0, 3, 2, 0, 3, 1, 3, 2, 3, 3, 3, 0, 2, 2, 2, 3, 1,\n",
       "       2, 1, 0, 0, 2, 3, 3, 2, 1, 1, 1, 3, 1, 0, 1, 3, 3, 0, 0, 0, 2, 3,\n",
       "       2, 0, 0, 3, 1, 2, 0, 3, 3, 3, 3, 3, 2, 3, 2, 2, 2, 0, 1, 3, 0, 0,\n",
       "       3, 2, 1, 1, 1, 0, 3, 3, 0, 0, 1, 2, 0, 0, 3, 1, 2, 2, 1, 0, 1, 0,\n",
       "       1, 1, 1, 0, 2, 0, 1, 0, 0, 1, 1, 3, 2, 1, 2, 1, 3, 3, 0, 0, 3, 3,\n",
       "       2, 1, 0, 1, 3, 0, 3, 3, 3, 3, 3, 0, 3, 2, 2, 0, 0, 1, 3, 0, 3, 3,\n",
       "       0, 2, 2, 2, 1, 2, 1, 1, 1, 1, 1, 3, 1, 3, 1, 3, 2, 2, 0, 3, 0, 0,\n",
       "       1, 1, 1, 2, 3, 3, 0, 1, 1, 3, 0, 0, 1, 1, 1, 1, 0, 2, 0, 2, 3, 2,\n",
       "       3, 1, 2, 3, 2, 0, 1, 0, 2, 0, 1, 2, 0, 1, 0, 2, 0, 3, 2, 3, 1, 0,\n",
       "       3, 0, 2, 0, 2, 3, 1, 0, 1, 2, 1, 3, 3, 2, 1, 2, 0, 0, 0, 1, 2, 3,\n",
       "       3, 3, 1, 1, 0, 2, 1, 0, 3, 3, 0, 1, 2, 3, 3, 0, 0, 2, 2, 2, 1, 1,\n",
       "       3, 3, 3, 0, 1, 3, 2, 1], dtype=int32)"
      ]
     },
     "execution_count": 14,
     "metadata": {},
     "output_type": "execute_result"
    }
   ],
   "source": [
    "#使用训练好的模型对另一半样本进行分类\n",
    "model.predict(X[250:])"
   ]
  },
  {
   "cell_type": "code",
   "execution_count": null,
   "metadata": {},
   "outputs": [],
   "source": []
  },
  {
   "cell_type": "code",
   "execution_count": null,
   "metadata": {},
   "outputs": [],
   "source": []
  },
  {
   "cell_type": "code",
   "execution_count": null,
   "metadata": {},
   "outputs": [],
   "source": []
  },
  {
   "cell_type": "code",
   "execution_count": null,
   "metadata": {},
   "outputs": [],
   "source": []
  },
  {
   "cell_type": "code",
   "execution_count": null,
   "metadata": {},
   "outputs": [],
   "source": []
  },
  {
   "cell_type": "code",
   "execution_count": null,
   "metadata": {},
   "outputs": [],
   "source": []
  },
  {
   "cell_type": "markdown",
   "metadata": {},
   "source": [
    "- 是否可以使用整体平方和来评估聚类模型聚类的效果？"
   ]
  },
  {
   "cell_type": "code",
   "execution_count": 22,
   "metadata": {},
   "outputs": [
    {
     "data": {
      "text/plain": [
       "2806.679474106651"
      ]
     },
     "execution_count": 22,
     "metadata": {},
     "output_type": "execute_result"
    }
   ],
   "source": [
    "#查看k值的不同对整体平方和的影响\n",
    "model = KMeans(n_clusters=2)\n",
    "model.fit(X)\n",
    "model.inertia_"
   ]
  },
  {
   "cell_type": "code",
   "execution_count": 23,
   "metadata": {},
   "outputs": [
    {
     "data": {
      "text/plain": [
       "897.4174219305443"
      ]
     },
     "execution_count": 23,
     "metadata": {},
     "output_type": "execute_result"
    }
   ],
   "source": [
    "#查看k值的不同对整体平方和的影响\n",
    "model = KMeans(n_clusters=4)\n",
    "model.fit(X)\n",
    "model.inertia_"
   ]
  },
  {
   "cell_type": "code",
   "execution_count": 24,
   "metadata": {},
   "outputs": [
    {
     "data": {
      "text/plain": [
       "694.4647485325643"
      ]
     },
     "execution_count": 24,
     "metadata": {},
     "output_type": "execute_result"
    }
   ],
   "source": [
    "#查看k值的不同对整体平方和的影响\n",
    "model = KMeans(n_clusters=6)\n",
    "model.fit(X)\n",
    "model.inertia_"
   ]
  },
  {
   "cell_type": "code",
   "execution_count": 25,
   "metadata": {},
   "outputs": [
    {
     "data": {
      "text/plain": [
       "425.1844972345162"
      ]
     },
     "execution_count": 25,
     "metadata": {},
     "output_type": "execute_result"
    }
   ],
   "source": [
    "#查看k值的不同对整体平方和的影响\n",
    "model = KMeans(n_clusters=10)\n",
    "model.fit(X)\n",
    "model.inertia_\n",
    "\n",
    "\n",
    "#通过测试发现，整体平方和会随着k的增大而减小"
   ]
  },
  {
   "cell_type": "code",
   "execution_count": null,
   "metadata": {},
   "outputs": [],
   "source": []
  },
  {
   "cell_type": "code",
   "execution_count": null,
   "metadata": {},
   "outputs": [],
   "source": []
  },
  {
   "cell_type": "code",
   "execution_count": null,
   "metadata": {},
   "outputs": [],
   "source": []
  },
  {
   "cell_type": "markdown",
   "metadata": {},
   "source": [
    "- silhouette_score计算轮廓系数\n",
    "    - 在sklearn中，我们使用模块metrics中的类silhouette_score来计算轮廓系数，它返回的是一个数据集中，所有样本的轮廓系数的均值。\n",
    "- silhouette_sample\n",
    "    - 但我们还有同在metrics模块中的silhouette_sample，它的参数与轮廓系数一致，但返回的 是数据集中每个样本自己的轮廓系数"
   ]
  },
  {
   "cell_type": "code",
   "execution_count": 15,
   "metadata": {},
   "outputs": [],
   "source": [
    "from sklearn.metrics import silhouette_score"
   ]
  },
  {
   "cell_type": "code",
   "execution_count": 20,
   "metadata": {},
   "outputs": [],
   "source": [
    "X,y = make_blobs(n_samples=500,n_features=2,centers=4,random_state=2020)"
   ]
  },
  {
   "cell_type": "code",
   "execution_count": 16,
   "metadata": {},
   "outputs": [
    {
     "data": {
      "text/plain": [
       "KMeans(n_clusters=4)"
      ]
     },
     "execution_count": 16,
     "metadata": {},
     "output_type": "execute_result"
    }
   ],
   "source": [
    "#使用所有样本训练模型\n",
    "model = KMeans(n_clusters=4)\n",
    "model.fit(X)"
   ]
  },
  {
   "cell_type": "code",
   "execution_count": 17,
   "metadata": {},
   "outputs": [
    {
     "data": {
      "text/plain": [
       "0.5777450114792333"
      ]
     },
     "execution_count": 17,
     "metadata": {},
     "output_type": "execute_result"
    }
   ],
   "source": [
    "labels = model.labels_\n",
    "silhouette_score(X,labels)"
   ]
  },
  {
   "cell_type": "code",
   "execution_count": null,
   "metadata": {},
   "outputs": [],
   "source": []
  }
 ],
 "metadata": {
  "kernelspec": {
   "display_name": "Python 3",
   "language": "python",
   "name": "python3"
  },
  "language_info": {
   "codemirror_mode": {
    "name": "ipython",
    "version": 3
   },
   "file_extension": ".py",
   "mimetype": "text/x-python",
   "name": "python",
   "nbconvert_exporter": "python",
   "pygments_lexer": "ipython3",
   "version": "3.8.5"
  }
 },
 "nbformat": 4,
 "nbformat_minor": 4
}
